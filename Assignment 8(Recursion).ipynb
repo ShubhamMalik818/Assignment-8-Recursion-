{
 "cells": [
  {
   "cell_type": "code",
   "execution_count": null,
   "id": "fa1927c7-5252-4f19-9685-17854bd4901a",
   "metadata": {},
   "outputs": [],
   "source": [
    "Question 1\n",
    "\n",
    "Given two strings s1 and s2, return the lowest ASCII sum of deleted characters to make two strings equal.\n",
    "\n",
    "Example 1:\n",
    "\n",
    "Input: s1 = \"sea\", s2 = \"eat\"\n",
    "\n",
    "Output: 231\n",
    "\n",
    "Explanation: Deleting \"s\" from \"sea\" adds the ASCII value of \"s\" (115) to the sum.\n",
    "\n",
    "Deleting \"t\" from \"eat\" adds 116 to the sum.\n",
    "\n",
    "At the end, both strings are equal, and 115 + 116 = 231 is the minimum sum possible to achieve this."
   ]
  },
  {
   "cell_type": "code",
   "execution_count": 1,
   "id": "87992986-8e09-4033-81b9-853e02dcafb7",
   "metadata": {},
   "outputs": [],
   "source": [
    "def minimumDeleteSum(s1: str, s2: str) -> int:\n",
    "    m, n = len(s1), len(s2)\n",
    "    dp = [[0] * (n + 1) for _ in range(m + 1)]\n",
    "\n",
    "    for i in range(1, m + 1):\n",
    "        dp[i][0] = dp[i-1][0] + ord(s1[i-1])\n",
    "\n",
    "    for j in range(1, n + 1):\n",
    "        dp[0][j] = dp[0][j-1] + ord(s2[j-1])\n",
    "\n",
    "    for i in range(1, m + 1):\n",
    "        for j in range(1, n + 1):\n",
    "            if s1[i-1] == s2[j-1]:\n",
    "                dp[i][j] = dp[i-1][j-1]\n",
    "            else:\n",
    "                dp[i][j] = min(dp[i-1][j] + ord(s1[i-1]), dp[i][j-1] + ord(s2[j-1]))\n",
    "\n",
    "    return dp[m][n]"
   ]
  },
  {
   "cell_type": "code",
   "execution_count": 2,
   "id": "ff5d6df6-b140-4612-a9e6-eaca65df1da5",
   "metadata": {},
   "outputs": [
    {
     "name": "stdout",
     "output_type": "stream",
     "text": [
      "231\n"
     ]
    }
   ],
   "source": [
    "s1 = \"sea\"\n",
    "s2 = \"eat\"\n",
    "print(minimumDeleteSum(s1, s2))  # Output: 231"
   ]
  },
  {
   "cell_type": "code",
   "execution_count": null,
   "id": "d92349df-ea43-4a3e-90ee-d34468172f23",
   "metadata": {},
   "outputs": [],
   "source": [
    "Question 2\n",
    "\n",
    "Given a string s containing only three types of characters: '(', ')' and '*', return true if s is valid.\n",
    "\n",
    "The following rules define a valid string:\n",
    "\n",
    "- Any left parenthesis '(' must have a corresponding right parenthesis ')'.\n",
    "- Any right parenthesis ')' must have a corresponding left parenthesis '('.\n",
    "- Left parenthesis '(' must go before the corresponding right parenthesis ')'.\n",
    "- '*' could be treated as a single right parenthesis ')' or a single left parenthesis '(' or an empty string \"\".\n",
    "\n",
    "Example 1:\n",
    "\n",
    "Input: s = \"()\"\n",
    "\n",
    "Output:\n",
    "\n",
    "true"
   ]
  },
  {
   "cell_type": "code",
   "execution_count": 3,
   "id": "790260de-959d-4828-9ed3-e353c12e6da9",
   "metadata": {},
   "outputs": [],
   "source": [
    "def isValid(s: str) -> bool:\n",
    "    stack = []\n",
    "    asterisk_count = 0\n",
    "    \n",
    "    for char in s:\n",
    "        if char == '(':\n",
    "            stack.append(char)\n",
    "        elif char == ')':\n",
    "            if stack:\n",
    "                stack.pop()\n",
    "            elif asterisk_count > 0:\n",
    "                asterisk_count -= 1\n",
    "            else:\n",
    "                return False\n",
    "        elif char == '*':\n",
    "            asterisk_count += 1\n",
    "    \n",
    "    while stack and asterisk_count > 0:\n",
    "        stack.pop()\n",
    "        asterisk_count -= 1\n",
    "    \n",
    "    return len(stack) == 0"
   ]
  },
  {
   "cell_type": "code",
   "execution_count": 4,
   "id": "91d2f007-fa53-416f-8443-c85b4382019f",
   "metadata": {},
   "outputs": [
    {
     "name": "stdout",
     "output_type": "stream",
     "text": [
      "True\n"
     ]
    }
   ],
   "source": [
    "s = \"()\"\n",
    "print(isValid(s))  # Output: True"
   ]
  },
  {
   "cell_type": "code",
   "execution_count": null,
   "id": "be93cf8f-cd39-4c36-8bf7-3d7850dafeef",
   "metadata": {},
   "outputs": [],
   "source": [
    "Question 3\n",
    "\n",
    "Given two strings word1 and word2, return the minimum number of steps required to make word1 and word2 the same.\n",
    "\n",
    "In one step, you can delete exactly one character in either string.\n",
    "\n",
    "Example 1:\n",
    "\n",
    "Input: word1 = \"sea\", word2 = \"eat\"\n",
    "\n",
    "Output: 2\n",
    "\n",
    "Explanation: You need one step to make \"sea\" to \"ea\" and another step to make \"eat\" to \"ea\"."
   ]
  },
  {
   "cell_type": "code",
   "execution_count": 5,
   "id": "9e5a2440-4743-478b-8bef-825b6ec183c4",
   "metadata": {},
   "outputs": [],
   "source": [
    "def minDistance(word1: str, word2: str) -> int:\n",
    "    m, n = len(word1), len(word2)\n",
    "    dp = [[0] * (n + 1) for _ in range(m + 1)]\n",
    "\n",
    "    for i in range(m + 1):\n",
    "        dp[i][0] = i\n",
    "\n",
    "    for j in range(n + 1):\n",
    "        dp[0][j] = j\n",
    "\n",
    "    for i in range(1, m + 1):\n",
    "        for j in range(1, n + 1):\n",
    "            if word1[i-1] == word2[j-1]:\n",
    "                dp[i][j] = dp[i-1][j-1]\n",
    "            else:\n",
    "                dp[i][j] = min(dp[i-1][j], dp[i][j-1]) + 1\n",
    "\n",
    "    return dp[m][n]"
   ]
  },
  {
   "cell_type": "code",
   "execution_count": 6,
   "id": "2bd9d25e-290a-4776-91f9-8f104e541d25",
   "metadata": {},
   "outputs": [
    {
     "name": "stdout",
     "output_type": "stream",
     "text": [
      "2\n"
     ]
    }
   ],
   "source": [
    "word1 = \"sea\"\n",
    "word2 = \"eat\"\n",
    "print(minDistance(word1, word2))  # Output: 2"
   ]
  },
  {
   "cell_type": "code",
   "execution_count": null,
   "id": "a4dc2f08-4334-4b3b-83e0-6b715b57c0ae",
   "metadata": {},
   "outputs": [],
   "source": [
    "Question 4\n",
    "\n",
    "You need to construct a binary tree from a string consisting of parenthesis and integers.\n",
    "\n",
    "The whole input represents a binary tree. It contains an integer followed by zero, one or two pairs of parenthesis. The integer represents the \n",
    "roots value and a pair of parenthesis contains a child binary tree with the same structure. You always start to construct the left child node \n",
    "of the parent first if it exists.\n",
    "\n",
    "Input: s = \"4(2(3)(1))(6(5))\"\n",
    "\n",
    "Output: [4,2,6,3,1,5]"
   ]
  },
  {
   "cell_type": "code",
   "execution_count": 22,
   "id": "dea2b802-df10-4c7c-a2bd-776f90e905a3",
   "metadata": {},
   "outputs": [
    {
     "name": "stdout",
     "output_type": "stream",
     "text": [
      "[3, 2, 1, 4, 5, 6]\n"
     ]
    }
   ],
   "source": [
    "class TreeNode:\n",
    "    def __init__(self, val=0, left=None, right=None):\n",
    "        self.val = val\n",
    "        self.left = left\n",
    "        self.right = right\n",
    "\n",
    "def buildTree(s: str) -> TreeNode:\n",
    "    stack = []\n",
    "\n",
    "    i = 0\n",
    "    while i < len(s):\n",
    "        if s[i].isdigit() or s[i] == '-':\n",
    "            start = i\n",
    "            while i + 1 < len(s) and (s[i + 1].isdigit() or s[i + 1] == '-'):\n",
    "                i += 1\n",
    "            val = int(s[start:i + 1])\n",
    "            node = TreeNode(val)\n",
    "            if stack:\n",
    "                parent = stack[-1]\n",
    "                if not parent.left:\n",
    "                    parent.left = node\n",
    "                else:\n",
    "                    parent.right = node\n",
    "            stack.append(node)\n",
    "        elif s[i] == ')':\n",
    "            stack.pop()\n",
    "        i += 1\n",
    "\n",
    "    return stack[0]\n",
    "\n",
    "def inorder_traversal(node):\n",
    "    if not node:\n",
    "        return []\n",
    "    return inorder_traversal(node.left) + [node.val] + inorder_traversal(node.right)\n",
    "\n",
    "# Test example\n",
    "s = \"4(2(3)(1))(6(5))\"\n",
    "root = buildTree(s)\n",
    "result = inorder_traversal(root)\n",
    "print(result)  # Output: [3, 2, 1, 4, 5, 6]"
   ]
  },
  {
   "cell_type": "code",
   "execution_count": null,
   "id": "33d72b5a-ef38-4e65-99a1-7288d8758f65",
   "metadata": {},
   "outputs": [],
   "source": [
    "Question 5\n",
    "\n",
    "Given an array of characters chars, compress it using the following algorithm:\n",
    "\n",
    "Begin with an empty string s. For each group of consecutive repeating characters in chars:\n",
    "\n",
    "- If the group's length is 1, append the character to s.\n",
    "- Otherwise, append the character followed by the group's length.\n",
    "\n",
    "The compressed string s should not be returned separately, but instead, be stored in the input character array chars. Note that group \n",
    "lengths that are 10 or longer will be split into multiple characters in chars.\n",
    "\n",
    "After you are done modifying the input array, return the new length of the array.\n",
    "\n",
    "You must write an algorithm that uses only constant extra space.\n",
    "\n",
    "Example 1:\n",
    "\n",
    "Input: chars = [\"a\",\"a\",\"b\",\"b\",\"c\",\"c\",\"c\"]\n",
    "\n",
    "Output: Return 6, and the first 6 characters of the input array should be: [\"a\",\"2\",\"b\",\"2\",\"c\",\"3\"]\n",
    "\n",
    "Explanation:\n",
    "\n",
    "The groups are \"aa\", \"bb\", and \"ccc\". This compresses to \"a2b2c3\"."
   ]
  },
  {
   "cell_type": "code",
   "execution_count": 24,
   "id": "21284401-8a20-430a-a115-32848f3ce55c",
   "metadata": {},
   "outputs": [
    {
     "name": "stdout",
     "output_type": "stream",
     "text": [
      "New length: 6\n",
      "Compressed array: ['a', '2', 'b', '2', 'c', '3']\n"
     ]
    }
   ],
   "source": [
    "def compress(chars):\n",
    "    n = len(chars)\n",
    "    write_index = 0  # Pointer to write compressed characters into the input array\n",
    "    count = 1  # Count of consecutive repeating characters\n",
    "\n",
    "    for i in range(1, n):\n",
    "        if chars[i] == chars[i - 1]:\n",
    "            count += 1\n",
    "        else:\n",
    "            chars[write_index] = chars[i - 1]\n",
    "            write_index += 1\n",
    "\n",
    "            if count > 1:\n",
    "                for digit in str(count):\n",
    "                    chars[write_index] = digit\n",
    "                    write_index += 1\n",
    "\n",
    "            count = 1\n",
    "\n",
    "    # Write the last character and its count (if applicable)\n",
    "    chars[write_index] = chars[n - 1]\n",
    "    write_index += 1\n",
    "\n",
    "    if count > 1:\n",
    "        for digit in str(count):\n",
    "            chars[write_index] = digit\n",
    "            write_index += 1\n",
    "\n",
    "    return write_index\n",
    "\n",
    "# Test example\n",
    "chars = [\"a\", \"a\", \"b\", \"b\", \"c\", \"c\", \"c\"]\n",
    "new_length = compress(chars)\n",
    "print(\"New length:\", new_length)\n",
    "print(\"Compressed array:\", chars[:new_length])"
   ]
  },
  {
   "cell_type": "code",
   "execution_count": null,
   "id": "94486679-eade-42b7-b227-58967a3ec15f",
   "metadata": {},
   "outputs": [],
   "source": [
    "Question 6\n",
    "\n",
    "Given two strings s and p, return an array of all the start indices of p anagrams in s. You may return the answer in any order.\n",
    "\n",
    "An Anagram is a word or phrase formed by rearranging the letters of a different word or phrase, typically using all the original letters \n",
    "exactly once.\n",
    "\n",
    "Example 1:\n",
    "\n",
    "Input: s = \"cbaebabacd\", p = \"abc\"\n",
    "\n",
    "Output: [0,6]\n",
    "\n",
    "Explanation:\n",
    "\n",
    "The substring with start index = 0 is \"cba\", which is an anagram of \"abc\".\n",
    "\n",
    "The substring with start index = 6 is \"bac\", which is an anagram of \"abc\"."
   ]
  },
  {
   "cell_type": "code",
   "execution_count": 25,
   "id": "773e8a60-10c3-448c-9b86-8ff5805d643b",
   "metadata": {},
   "outputs": [
    {
     "name": "stdout",
     "output_type": "stream",
     "text": [
      "[0, 6]\n"
     ]
    }
   ],
   "source": [
    "def findAnagrams(s, p):\n",
    "    result = []\n",
    "    len_s, len_p = len(s), len(p)\n",
    "\n",
    "    if len_s < len_p:\n",
    "        return result\n",
    "\n",
    "    def create_char_freq_map(word):\n",
    "        char_freq_map = {}\n",
    "        for char in word:\n",
    "            char_freq_map[char] = char_freq_map.get(char, 0) + 1\n",
    "        return char_freq_map\n",
    "\n",
    "    char_freq_p = create_char_freq_map(p)\n",
    "\n",
    "    # Initialize the window with the first len_p characters of s\n",
    "    window = create_char_freq_map(s[:len_p])\n",
    "\n",
    "    # Check if the initial window is an anagram of p\n",
    "    if window == char_freq_p:\n",
    "        result.append(0)\n",
    "\n",
    "    # Slide the window over the remaining characters of s\n",
    "    for i in range(1, len_s - len_p + 1):\n",
    "        left_char, right_char = s[i - 1], s[i + len_p - 1]\n",
    "\n",
    "        # Update the window by adding the new character and removing the leftmost character\n",
    "        window[right_char] = window.get(right_char, 0) + 1\n",
    "        window[left_char] -= 1\n",
    "\n",
    "        # If the frequency of a character becomes 0, remove it from the window dictionary\n",
    "        if window[left_char] == 0:\n",
    "            del window[left_char]\n",
    "\n",
    "        # Check if the current window is an anagram of p\n",
    "        if window == char_freq_p:\n",
    "            result.append(i)\n",
    "\n",
    "    return result\n",
    "\n",
    "# Test example\n",
    "s = \"cbaebabacd\"\n",
    "p = \"abc\"\n",
    "print(findAnagrams(s, p))  # Output: [0, 6]"
   ]
  },
  {
   "cell_type": "code",
   "execution_count": null,
   "id": "c674af75-be7b-4fcd-977f-d4b4097159ff",
   "metadata": {},
   "outputs": [],
   "source": [
    "Question 7\n",
    "\n",
    "Given an encoded string, return its decoded string.\n",
    "\n",
    "The encoding rule is: k[encoded_string], where the encoded_string inside the square brackets is being repeated exactly k times. Note that k is \n",
    "guaranteed to be a positive integer.\n",
    "\n",
    "You may assume that the input string is always valid; there are no extra white spaces, square brackets are well-formed, etc. Furthermore, you may \n",
    "assume that the original data does not contain any digits and that digits are only for those repeat numbers, k. For example, there will not be \n",
    "input like 3a or 2[4].\n",
    "\n",
    "The test cases are generated so that the length of the output will never exceed 105.\n",
    "\n",
    "Example 1:\n",
    "\n",
    "Input: s = \"3[a]2[bc]\"\n",
    "\n",
    "Output: \"aaabcbc\""
   ]
  },
  {
   "cell_type": "code",
   "execution_count": 26,
   "id": "c1cead06-54a2-4f1b-8fc4-352ea0e6cc1a",
   "metadata": {},
   "outputs": [
    {
     "name": "stdout",
     "output_type": "stream",
     "text": [
      "aaabcbc\n"
     ]
    }
   ],
   "source": [
    "def decodeString(s):\n",
    "    stack = []\n",
    "    current_count = 0\n",
    "    current_string = \"\"\n",
    "\n",
    "    for char in s:\n",
    "        if char.isdigit():\n",
    "            current_count = current_count * 10 + int(char)\n",
    "        elif char == \"[\":\n",
    "            stack.append((current_count, current_string))\n",
    "            current_count = 0\n",
    "            current_string = \"\"\n",
    "        elif char == \"]\":\n",
    "            count, prev_string = stack.pop()\n",
    "            current_string = prev_string + current_string * count\n",
    "        else:\n",
    "            current_string += char\n",
    "\n",
    "    return current_string\n",
    "\n",
    "# Test example\n",
    "s = \"3[a]2[bc]\"\n",
    "print(decodeString(s))  # Output: \"aaabcbc\""
   ]
  },
  {
   "cell_type": "code",
   "execution_count": null,
   "id": "93cf12f8-b1e5-4e6e-8ad6-1233f07df272",
   "metadata": {},
   "outputs": [],
   "source": [
    "Question 8\n",
    "\n",
    "Given two strings s and goal, return true if you can swap two letters in s so the result is equal to goal, otherwise, return false.\n",
    "\n",
    "Swapping letters is defined as taking two indices i and j (0-indexed) such that i != j and swapping the characters at s[i] and s[j].\n",
    "\n",
    "- For example, swapping at indices 0 and 2 in \"abcd\" results in \"cbad\".\n",
    "\n",
    "Example 1:\n",
    "\n",
    "Input: s = \"ab\", goal = \"ba\"\n",
    "\n",
    "Output: true\n",
    "\n",
    "Explanation: You can swap s[0] = 'a' and s[1] = 'b' to get \"ba\", which is equal to goal."
   ]
  },
  {
   "cell_type": "code",
   "execution_count": 27,
   "id": "6fe06b5f-15e8-4978-b483-110357bc9666",
   "metadata": {},
   "outputs": [
    {
     "name": "stdout",
     "output_type": "stream",
     "text": [
      "True\n"
     ]
    }
   ],
   "source": [
    "def buddyStrings(s, goal):\n",
    "    if len(s) != len(goal):\n",
    "        return False\n",
    "\n",
    "    if s == goal:\n",
    "        # Check if there are any duplicate characters in s\n",
    "        return len(set(s)) < len(s)\n",
    "\n",
    "    mismatched_indices = []\n",
    "    for i in range(len(s)):\n",
    "        if s[i] != goal[i]:\n",
    "            mismatched_indices.append(i)\n",
    "\n",
    "    return len(mismatched_indices) == 2 and s[mismatched_indices[0]] == goal[mismatched_indices[1]] and s[mismatched_indices[1]] == goal[mismatched_indices[0]]\n",
    "\n",
    "# Test example\n",
    "s = \"ab\"\n",
    "goal = \"ba\"\n",
    "print(buddyStrings(s, goal))  # Output: True"
   ]
  },
  {
   "cell_type": "code",
   "execution_count": null,
   "id": "6add8694-c3e4-4102-ade7-da58cb17b775",
   "metadata": {},
   "outputs": [],
   "source": []
  }
 ],
 "metadata": {
  "kernelspec": {
   "display_name": "Python 3 (ipykernel)",
   "language": "python",
   "name": "python3"
  },
  "language_info": {
   "codemirror_mode": {
    "name": "ipython",
    "version": 3
   },
   "file_extension": ".py",
   "mimetype": "text/x-python",
   "name": "python",
   "nbconvert_exporter": "python",
   "pygments_lexer": "ipython3",
   "version": "3.10.8"
  }
 },
 "nbformat": 4,
 "nbformat_minor": 5
}
